{
 "cells": [
  {
   "cell_type": "markdown",
   "id": "cd9c59eb-1c11-4e2a-9dfa-dc7b58a73954",
   "metadata": {},
   "source": [
    "# Chapter 1\n",
    "\n",
    "> Statistical learning refers to a set of tools for making sense of complex datasets.\n",
    "\n",
    "- Boxplot é uma forma interessante de relacionar dados categóricos com dados numéricos de forma interpretável."
   ]
  }
 ],
 "metadata": {
  "kernelspec": {
   "display_name": "Python 3 (ipykernel)",
   "language": "python",
   "name": "python3"
  },
  "language_info": {
   "codemirror_mode": {
    "name": "ipython",
    "version": 3
   },
   "file_extension": ".py",
   "mimetype": "text/x-python",
   "name": "python",
   "nbconvert_exporter": "python",
   "pygments_lexer": "ipython3",
   "version": "3.8.10"
  }
 },
 "nbformat": 4,
 "nbformat_minor": 5
}
