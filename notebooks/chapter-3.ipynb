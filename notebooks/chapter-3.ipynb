{
 "cells": [
  {
   "cell_type": "markdown",
   "id": "fd24e69e-708b-41d5-8d17-00117d86a693",
   "metadata": {},
   "source": [
    "# Chapter 3"
   ]
  },
  {
   "cell_type": "markdown",
   "id": "42211bc6-62be-43c9-837b-812bf691610a",
   "metadata": {},
   "source": [
    "> Moreover, it serves as a good jumping-oﬀ point for\n",
    "newer approaches: as we will see in later chapters, many fancy statistical\n",
    "learning approaches can be seen as generalizations or extensions of linear\n",
    "regression."
   ]
  },
  {
   "cell_type": "markdown",
   "id": "984ce6fe-3636-4914-8b25-cc0cb8f49b38",
   "metadata": {},
   "source": [
    "> Here are a few important questions that we might\n",
    "seek to address:\n",
    ">\n",
    "> 1. Is there a relationship between advertising budget and sales?\n",
    "> 2. How strong is the relationship between advertising budget and sales?\n",
    "> 3. Which media are associated with sales?\n",
    "> 4. How large is the association between each medium and sales?\n",
    "> 5. How accurately can we predict future sales?\n",
    "> 6. Is the relationship linear?\n",
    "> 7. Is there synergy among the advertising media?\n",
    ">\n",
    "> It turns out that linear regression can be used to answer each of these\n",
    "questions."
   ]
  },
  {
   "cell_type": "markdown",
   "id": "5d3a60e2-1641-4200-9ee7-701c3f9da509",
   "metadata": {},
   "source": [
    "Assumir que\n",
    "$$\n",
    "    Y \\approx \\beta_0 + \\beta_1 X\n",
    "$$\n",
    "Onde $\\approx$ significa **aproximadamente modelado como** mais que **o valor é aproximadamente igual a**."
   ]
  },
  {
   "cell_type": "markdown",
   "id": "87a6a768-62dd-4511-81a7-83e89c04cc2a",
   "metadata": {},
   "source": [
    "$$\n",
    "    \\hat y_i = \\hat \\beta_0 + \\hat \\beta_1x_i \\implies\n",
    "    e_i = y_i - \\hat y_i\n",
    "$$\n",
    "\n",
    "Onde $e_i$ é o i-ésimo resíduo entre os valores reais e o modelo usando os coeficientes estimados."
   ]
  },
  {
   "cell_type": "markdown",
   "id": "2c87c2a6-8eef-44ea-881d-f160e636de21",
   "metadata": {},
   "source": [
    "$$\n",
    "    RSS = \\sum^n_{i=1} e^2_i = \\sum^n_{i=1}(y_i - \\hat \\beta_0 - \\hat \\beta_1x_i)^2\n",
    "$$\n",
    "\n",
    "Onde RSS é a soma residual dos quadrados, uma técnica simples diretamente relacionada à aproximação do modelo aos dados. É possível provar que os valores para $\\left\\{\\hat \\beta_0, \\hat \\beta_1\\right\\}$ que otimizam RSS são\n",
    "\n",
    "$$\n",
    "    \\hat \\beta_1 = \\frac {\\sum^n_{i=1}(x_i-\\bar x)(y_i - \\bar y)}{\\sum^n_i=1(x_i-\\bar x)^2} \\\\\n",
    "    \\hat \\beta_0 = \\bar y - \\hat \\beta_1 \\bar x\n",
    "$$\n",
    "\n",
    "Essa técnica é conhecida como otimização por mínimos quadrados, onde as médias usadas nesse contexto usam a média artimética dos valores do dataset de treino.\n",
    "\n",
    "**Dúvida:** O livro afirma que a função de RSS é sempre côncava e os valores para $\\Beta = \\left\\{\\hat \\beta_0, \\hat \\beta_1\\right\\}$ acima sempre se encontram no mínimo global da função. Existe alguma afirmação que pode ser feita sobre a concavidade do RSS?"
   ]
  },
  {
   "cell_type": "markdown",
   "metadata": {},
   "source": [
    "Mesmo analisando $\\Beta$ obtido com um dataset que vem de uma função exata os valores nunca serão iguais aos coeficientes da função original."
   ]
  },
  {
   "cell_type": "markdown",
   "metadata": {},
   "source": [
    "Se queremos estimar o valor médio ($\\mu$) da população usando uma amostra ($\\hat \\mu$) e queremos saber quão diferentes os dois valores são podemos avaliar o Erro Padrão de $\\hat \\mu = SE(\\hat \\mu)$:\n",
    "$$\n",
    "    Var(\\hat \\mu) = SE(\\mu)^2 = \\frac{\\sigma^2}n\n",
    "$$\n",
    "Essa equação também indica que quanto maior o número de exemplos (n) menor o erro padrão e é possível inferir que a proximidade entre $\\beta_0, \\beta_1$ é:\n",
    "$$\n",
    "SE(\\hat \\beta_0)^2 = \\sigma^2\\left[\\frac 1 n + \\frac{\\bar x^2}{\\sum^n_{i=1}(x_i-\\bar x)^2}\\right] \\\\ ~ \\\\\n",
    "SE(\\hat \\beta_1)^2 = \\frac{\\sigma^2}{\\sum^n_{i=1}(x_i-\\bar x)^2}\n",
    "$$\n",
    "Desde que os erros em comum para cada exemplo tenham $\\sigma^2$ iguais e não possuam correlação, o que nem sempre é verdadeiro.\n",
    "\n",
    "Essas medidas de erro podem ser usadas para definir intervalos de confiança, o que significa que há X% de probabilidade que que esse intervalo contém o valor real da predição, o que em muitos casos é o suficiente (o capítulo 3.1. tem uma explicação com mais detalhes do que isso significa)."
   ]
  },
  {
   "cell_type": "markdown",
   "metadata": {},
   "source": [
    "Essa informação também pode ser usada para criar testes de hipótese. O teste de hipótese mais comum envolve a hipótese nula, ou seja:\n",
    "\n",
    "> $H_0$: Não há relação entre X e Y.\n",
    "\n",
    "Contra a hipótese alternativa:\n",
    "\n",
    "> $H_a$: Existe alguma relação entre X e Y.\n",
    "\n",
    "Isso corresponde matematicamente a testar que:\n",
    "\n",
    "$$\n",
    "H_0: \\beta_1 = 0 \\\\\n",
    "H_a: \\beta_1 \\neq 0\n",
    "$$\n",
    "\n",
    "Já que caso a hipótese nula seja verdadeira $Y = \\beta_1 + \\epsilon$ logo não depende de X.\n",
    "\n",
    "Para garantir que a hipótese nula é verdadeira é preciso determinar que $\\hat \\beta_1 \\neq 0$ é suficientemente distante de 0, para que o valor obtido nao seja todo proveniente do erro, o que depende do erro padrão ($SE(\\hat\\beta_1)$). Se esse erro for significativamente pequeno há forte evidência que há uma relação entre os dois valores, e se for grande, $\\beta_1$ precisa ser grande em valor absoluto para rejeitar a hipótese nula. Esse teste pode ser feito usando uma estatística-t:\n",
    "$$\n",
    "    t = \\frac {\\hat \\Beta_1 - 0} {SE(\\hat \\beta_1)}\n",
    "$$\n",
    "Esse valor mede o número de desvios padrão que $\\hat\\beta_1$ está de 0. Se nenhuma relação existir entre X e Y a distribuição normal de t terá n-2 graus de liberdade. Para valores maioresq ue 30 é muito próxima da distribuição normal padrão e é simples descobrir a probabilidade de observar um número igual a |t| ou maior assumindo que $\\Beta_1 = 0$, que é chamado de valor p.\n",
    "\n",
    "Valores p pequenos podem ser uma inferência que há uma associação entre o preditor e a resposta já que significa que a probabilidade daquela distribuição ser uma coincidência é muito pequena. Nesses casos a hipótese nula pode ser rejeitada. Uma regra geral é abaixo de 5% mas esse valor depende demais do contexto.\n",
    "\n",
    "**obs:** já vi muitas pessoas classificarem em dados normais outliers como tendo 2 desvios padrão ou mais de distância da média e acredito que essa regra geral veio do teste t."
   ]
  },
  {
   "cell_type": "markdown",
   "id": "6c076f88",
   "metadata": {},
   "source": [
    "Todos os testes acima são feitos para ajudar a decidir se há ou não relação entre os dados mas não dizem qual modelo se adequa melhor aos dados. Geralmente para determinar isso o RSE (residual standard error) e R^2 são usados mas existem muitos outros."
   ]
  },
  {
   "cell_type": "markdown",
   "id": "e22a15d8",
   "metadata": {},
   "source": [
    "**RSE:** É uma estimativa do desvio padrão de $\\epsilon$, o erro irredutível, ou seja, representa o valor médio da diferença entre a resposta real e a verdadeira linha de regressão.\n",
    "$$\n",
    "RSE = \\sqrt{\\frac 1 {n-2}RSS} = \\sqrt{\\frac 1 {n-2}\\sum^n_{i=1}(y_i-\\hat y_i)^2} \\\\\n",
    "RSS = \\sum^n_{i=1}(y_i-\\hat y_i)^2\n",
    "$$\n",
    "RSE pode ser considerada uma medida absoluta da falta de ajuste do modelo (minimizável) e é medido nas unidades de Y."
   ]
  },
  {
   "cell_type": "markdown",
   "id": "16633c7a",
   "metadata": {},
   "source": [
    "**$R^2$:** É uma proporção da variância explicada pelo modelo independentemente da escala de Y.\n",
    "$$\n",
    "R^2 = \\frac{TSS - RSS}{TSS} = 1-\\frac {RSS} {TSS} \\\\ ~ \\\\\n",
    "TSS = \\sum(y_i-\\bar y)^2\n",
    "$$\n",
    "TSS pode ser interpretado como a variância total na resposta antes da regressão ser treinada.\n",
    "\n",
    "RSS pode ser interpretado como a variabilidade que não foi explicada após treinar a regressão, logo TSS - RSS é a quantidade de veriabilidade na resposta que foi explicada e $R^2$ a proporção entre os dois valores (maximizável). \n",
    "\n",
    "Uma vantagem do $R^2$ é que esse valor é inerentemente mais interpretável mas em muitos contextos trazer explicabilidade para um modelo não é viável. Em geral $R^2$ é uma métrica mais útil quando as relações dos dados são interpretáveis / possuem insights mais claros. Frequentemente bons modelos de predição não possuem bom $R^2$ mesmo que possuam bom desempenho na realidade.\n",
    "\n",
    "Essa métrica pode ser tratada como uma medida da linearidade da relação entre X e Y, bem como a medida de correlação descrita antes.\n",
    "\n",
    "**OBS:** Qual a diferença dessa correlação para Pearson / Spearman / etc.?\n",
    "\n",
    "É possível demonstrar que em contextos de regressão linear simplesos dois valores são iguais, mas em contextos de regressão linear múltipla essa relação não é necessariamente verdadeira e R^2 descreve a correlação melhor que a função $Cor(X, Y)$."
   ]
  },
  {
   "cell_type": "markdown",
   "id": "c35f6d25",
   "metadata": {},
   "source": []
  }
 ],
 "metadata": {
  "kernelspec": {
   "display_name": "Python 3 (ipykernel)",
   "language": "python",
   "name": "python3"
  },
  "language_info": {
   "codemirror_mode": {
    "name": "ipython",
    "version": 3
   },
   "file_extension": ".py",
   "mimetype": "text/x-python",
   "name": "python",
   "nbconvert_exporter": "python",
   "pygments_lexer": "ipython3",
   "version": "3.8.10"
  }
 },
 "nbformat": 4,
 "nbformat_minor": 5
}
