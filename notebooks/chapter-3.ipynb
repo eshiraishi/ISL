{
 "cells": [
  {
   "cell_type": "markdown",
   "id": "fd24e69e-708b-41d5-8d17-00117d86a693",
   "metadata": {},
   "source": [
    "# Chapter 3"
   ]
  },
  {
   "cell_type": "markdown",
   "id": "42211bc6-62be-43c9-837b-812bf691610a",
   "metadata": {},
   "source": [
    "> Moreover, it serves as a good jumping-oﬀ point for\n",
    "newer approaches: as we will see in later chapters, many fancy statistical\n",
    "learning approaches can be seen as generalizations or extensions of linear\n",
    "regression."
   ]
  },
  {
   "cell_type": "markdown",
   "id": "984ce6fe-3636-4914-8b25-cc0cb8f49b38",
   "metadata": {},
   "source": [
    "> Here are a few important questions that we might\n",
    "seek to address:\n",
    ">\n",
    "> 1. Is there a relationship between advertising budget and sales?\n",
    "> 2. How strong is the relationship between advertising budget and sales?\n",
    "> 3. Which media are associated with sales?\n",
    "> 4. How large is the association between each medium and sales?\n",
    "> 5. How accurately can we predict future sales?\n",
    "> 6. Is the relationship linear?\n",
    "> 7. Is there synergy among the advertising media?\n",
    ">\n",
    "> It turns out that linear regression can be used to answer each of these\n",
    "questions."
   ]
  },
  {
   "cell_type": "markdown",
   "id": "5d3a60e2-1641-4200-9ee7-701c3f9da509",
   "metadata": {},
   "source": [
    "Assumir que\n",
    "$$\n",
    "    Y \\approx \\beta_0 + \\beta_1 X\n",
    "$$\n",
    "Onde $\\approx$ significa **aproximadamente modelado como** mais que **o valor é aproximadamente igual a**."
   ]
  },
  {
   "cell_type": "markdown",
   "id": "87a6a768-62dd-4511-81a7-83e89c04cc2a",
   "metadata": {},
   "source": [
    "$$\n",
    "    \\hat y_i = \\hat \\beta_0 + \\hat \\beta_1x_i \\implies\n",
    "    e_i = y_i - \\hat y_i\n",
    "$$\n",
    "\n",
    "Onde $e_i$ é o i-ésimo resíduo entre os valores reais e o modelo usando os coeficientes estimados."
   ]
  },
  {
   "cell_type": "markdown",
   "id": "2c87c2a6-8eef-44ea-881d-f160e636de21",
   "metadata": {},
   "source": [
    "$$\n",
    "    RSS = \\sum^n_{i=1} e^2_i = \\sum^n_{i=1}(y_i - \\hat \\beta_0 - \\hat \\beta_1x_i)^2\n",
    "$$\n",
    "\n",
    "Onde RSS é a soma residual dos quadrados, uma técnica simples diretamente relacionada à aproximação do modelo aos dados. É possível provar que os valores para $\\left\\{\\hat \\beta_0, \\hat \\beta_1\\right\\}$ que otimizam RSS são\n",
    "\n",
    "$$\n",
    "    \\hat \\beta_1 = \\frac {\\sum^n_{i=1}(x_i-\\bar x)(y_i - \\bar y)}{\\sum^n_i=1(x_i-\\bar x)^2} \\\\\n",
    "    \\hat \\beta_0 = \\bar y - \\hat \\beta_1 \\bar x\n",
    "$$\n",
    "\n",
    "Essa técnica é conhecida como otimização por mínimos quadrados, onde as médias usadas nesse contexto usam a média artimética dos valores do dataset de treino.\n",
    "\n",
    "**Dúvida:** O livro afirma que a função de RSS é sempre côncava e os valores para $\\Beta = \\left\\{\\hat \\beta_0, \\hat \\beta_1\\right\\}$ acima sempre se encontram no mínimo global da função. Existe alguma afirmação que pode ser feita sobre a concavidade do RSS?"
   ]
  },
  {
   "cell_type": "markdown",
   "metadata": {},
   "source": [
    "Mesmo analisando $\\Beta$ obtido com um dataset que vem de uma função exata os valores nunca serão iguais aos coeficientes da função original."
   ]
  },
  {
   "cell_type": "markdown",
   "metadata": {},
   "source": [
    "Se queremos estimar o valor médio ($\\mu$) da população usando uma amostra ($\\hat \\mu$) e queremos saber quão diferentes os dois valores são podemos avaliar o Erro Padrão de $\\hat \\mu = SE(\\hat \\mu)$:\n",
    "$$\n",
    "    Var(\\hat \\mu) = SE(\\mu)^2 = \\frac{\\sigma^2}n\n",
    "$$\n",
    "Essa equação também indica que quanto maior o número de exemplos (n) menor o erro padrão e é possível inferir que a proximidade entre $\\beta_0, \\beta_1$ é:\n",
    "$$\n",
    "SE(\\hat \\beta_0)^2 = \\sigma^2\\left[\\frac 1 n + \\frac{\\bar x^2}{\\sum^n_{i=1}(x_i-\\bar x)^2}\\right] \\\\ ~ \\\\\n",
    "SE(\\hat \\beta_1)^2 = \\frac{\\sigma^2}{\\sum^n_{i=1}(x_i-\\bar x)^2}\n",
    "$$\n",
    "Desde que os erros em comum para cada exemplo tenham $\\sigma^2$ iguais e não possuam correlação, o que nem sempre é verdadeiro.\n",
    "\n",
    "Essas medidas de erro podem ser usadas para definir intervalos de confiança, o que significa que há X% de probabilidade que que esse intervalo contém o valor real da predição, o que em muitos casos é o suficiente (o capítulo 3.1. tem uma explicação com mais detalhes do que isso significa)."
   ]
  },
  {
   "cell_type": "markdown",
   "metadata": {},
   "source": [
    "Essa informação também pode ser usada para criar testes de hipótese. O teste de hipótese mais comum envolve a hipótese nula, ou seja:\n",
    "\n",
    "> $H_0$: Não há relação entre X e Y.\n",
    "\n",
    "Contra a hipótese alternativa:\n",
    "\n",
    "> $H_a$: Existe alguma relação entre X e Y.\n",
    "\n",
    "Isso corresponde matematicamente a testar que:\n",
    "\n",
    "$$\n",
    "H_0: \\beta_1 = 0 \\\\\n",
    "H_a: \\beta_1 \\neq 0\n",
    "$$\n",
    "\n",
    "Já que caso a hipótese nula seja verdadeira $Y = \\beta_1 + \\epsilon$ logo não depende de X.\n",
    "\n",
    "Para garantir que a hipótese nula é verdadeira é preciso determinar que $\\hat \\beta_1 \\neq 0$ é suficientemente distante de 0, para que o valor obtido nao seja todo proveniente do erro, o que depende do erro padrão ($SE(\\hat\\beta_1)$). Se esse erro for significativamente pequeno há forte evidência que há uma relação entre os dois valores, e se for grande, $\\beta_1$ precisa ser grande em valor absoluto para rejeitar a hipótese nula. Esse teste pode ser feito usando uma estatística-t:\n",
    "$$\n",
    "    t = \\frac {\\hat \\Beta_1 - 0} {SE(\\hat \\beta_1)}\n",
    "$$\n",
    "Esse valor mede o número de desvios padrão que $\\hat\\beta_1$ está de 0. Se nenhuma relação existir entre X e Y a distribuição normal de t terá n-2 graus de liberdade. Para valores maioresq ue 30 é muito próxima da distribuição normal padrão e é simples descobrir a probabilidade de observar um número igual a |t| ou maior assumindo que $\\Beta_1 = 0$, que é chamado de valor p.\n",
    "\n",
    "Valores p pequenos podem ser uma inferência que há uma associação entre o preditor e a resposta já que significa que a probabilidade daquela distribuição ser uma coincidência é muito pequena. Nesses casos a hipótese nula pode ser rejeitada. Uma regra geral é abaixo de 5% mas esse valor depende demais do contexto.\n",
    "\n",
    "**obs:** já vi muitas pessoas classificarem em dados normais outliers como tendo 2 desvios padrão ou mais de distância da média e acredito que essa regra geral veio do teste t."
   ]
  },
  {
   "cell_type": "markdown",
   "id": "6c076f88",
   "metadata": {},
   "source": [
    "Todos os testes acima são feitos para ajudar a decidir se há ou não relação entre os dados mas não dizem qual modelo se adequa melhor aos dados. Geralmente para determinar isso o RSE (residual standard error) e R^2 são usados mas existem muitos outros."
   ]
  },
  {
   "cell_type": "markdown",
   "id": "e22a15d8",
   "metadata": {},
   "source": [
    "**RSE:** É uma estimativa do desvio padrão de $\\epsilon$, o erro irredutível, ou seja, representa o valor médio da diferença entre a resposta real e a verdadeira linha de regressão.\n",
    "$$\n",
    "RSE = \\sqrt{\\frac 1 {n-2}RSS} = \\sqrt{\\frac 1 {n-2}\\sum^n_{i=1}(y_i-\\hat y_i)^2} \\\\\n",
    "RSS = \\sum^n_{i=1}(y_i-\\hat y_i)^2\n",
    "$$\n",
    "RSE pode ser considerada uma medida absoluta da falta de ajuste do modelo (minimizável) e é medido nas unidades de Y."
   ]
  },
  {
   "cell_type": "markdown",
   "id": "16633c7a",
   "metadata": {},
   "source": [
    "**$R^2$:** É uma proporção da variância explicada pelo modelo independentemente da escala de Y.\n",
    "$$\n",
    "R^2 = \\frac{TSS - RSS}{TSS} = 1-\\frac {RSS} {TSS} \\\\ ~ \\\\\n",
    "TSS = \\sum(y_i-\\bar y)^2\n",
    "$$\n",
    "TSS pode ser interpretado como a variância total na resposta antes da regressão ser treinada.\n",
    "\n",
    "RSS pode ser interpretado como a variabilidade que não foi explicada após treinar a regressão, logo TSS - RSS é a quantidade de veriabilidade na resposta que foi explicada e $R^2$ a proporção entre os dois valores (maximizável). \n",
    "\n",
    "Uma vantagem do $R^2$ é que esse valor é inerentemente mais interpretável mas em muitos contextos trazer explicabilidade para um modelo não é viável. Em geral $R^2$ é uma métrica mais útil quando as relações dos dados são interpretáveis / possuem insights mais claros. Frequentemente bons modelos de predição não possuem bom $R^2$ mesmo que possuam bom desempenho na realidade.\n",
    "\n",
    "Essa métrica pode ser tratada como uma medida da linearidade da relação entre X e Y, bem como a medida de correlação descrita antes.\n",
    "\n",
    "**OBS:** Qual a diferença dessa correlação para Pearson / Spearman / etc.?\n",
    "\n",
    "É possível demonstrar que em contextos de regressão linear simplesos dois valores são iguais, mas em contextos de regressão linear múltipla essa relação não é necessariamente verdadeira e R^2 descreve a correlação melhor que a função $Cor(X, Y)$."
   ]
  },
  {
   "cell_type": "markdown",
   "id": "c35f6d25",
   "metadata": {},
   "source": [
    "Uma regressão linear múltipla é descrita por:\n",
    "$$\n",
    "Y = \\beta_0 + \\beta_1X_1 + \\beta_2X_2 + \\cdots + \\beta_pX_p + \\epsilon\n",
    "$$\n",
    "Os coeficientes podem ser otimizados minimizando a soma dos quadrados residuais:\n",
    "$$\n",
    "RSS = \\sum^n_{i=1}(y_i-\\hat y_i)^2\n",
    "$$\n",
    "Uma dificuldade em regressões múltiplas é interpretar a diferença entre correlação e causalidade.\n",
    "\n",
    "> When we perform multiple linear regression, we usually are interested in answering a few important questions.\n",
    "> 1. Is at least one of the predictors X1, X2,...,Xp useful in predicting the response?\n",
    "> 2. Do all the predictors help to explain Y , or is only a subset of the predictors useful?\n",
    "> 3. How well does the model fit the data?\n",
    "> 4. Given a set of predictor values, what response value should we predict, and how accurate is our prediction?\n",
    "\n",
    "1. A primeira pergunta pode ser respondida fazendo um teste de hipótese através da estatística F:\n",
    "$$\n",
    "    F = \\frac{\\frac{TSS - RSS} p}{\\frac {RSS}{n-p-1}} \\\\\n",
    "    TSS = \\sum{y_i - \\bar y}^2 \\\\\n",
    "    RSS = \\sum{y_i - \\hat y_i}^2\n",
    "$$\n",
    "É possível demonstrar que caso a hipótese nula seja falsa, o numerador é $\\sigma^2$ e no caso de ser verdadeira, o denominador será $\\sigma^2$\n",
    "Se a hipótese nula for verdadeira a estatística F terá valor próximo de 1 e caso contrário será distante de 1.\n",
    "\n",
    "2. Existem diversas formas de determinar as melhores variáveis independentes, entre elas:\n",
    "* *Forward Selection*: começa com um modelo sem preditores. Treina regressões lineares independentes e soma as regressões até achar a combinação com menor RSS e repete o processo até que uma regra seja atingida.\n",
    "* *Backward Selection\": começa considerando todas as variáveis, remove a variável com maior valor p e treina novamente até que uma regra seja atingida.\n",
    "* *Mixed Selection*: Funciona igual ao *forward selection* mas só adiciona as variáveis se o valor p está abaixo de um certo valor. Funciona melhor que o primeiro caso quando existem mais variáveis que entradas (exemplo: imagens).\n",
    "\n",
    "3. Algumas métricas de ajuste para regressões lineares múltiplas são enviesadas. Em especial o $R^2$ sem ajustes tende a priorizar modelos com muitas variáveis para aumentar a variância explicada, causando *overfitting*.\n",
    "\n",
    "Para usar o RSE corretamente é necessário usar sua forma generalizada para que mais variáveis sejam consideradas apenas quando o RSS diminui significativamente:\n",
    "$$\n",
    "    RSE = \\sqrt{\\frac 1 {n-p-1} \\cdot RSS}\n",
    "$$\n",
    "\n",
    "4. A forma mais confiável de aumentar a garantia nos resultados é considerar um intervalo de confiança para as predições."
   ]
  },
  {
   "cell_type": "markdown",
   "id": "7d1d177e",
   "metadata": {},
   "source": [
    "Outras considerações:\n",
    "* Variáveis qualitativas:\n",
    "    * Se possuem apenas dois estados podem ser transformadas em variáveis *dummy* para serem tratadas como quantitativas.\n",
    "    * Se possui mais de dois estados é preciso criar uma variável nova para cada estado possível.\n",
    "    * Em ambos os casos nesse contexto essa separação para descartar variáveis dummy com valor p alto.\n",
    "* Funções não lineares como Funções aditivas ($y = \\beta_0 + \\beta_1 x_1 + \\beta_2 x_2 + \\beta_3 x_1 x_2$) e funções polinomiais:\n",
    "    * Esses termos podem ser tratados como atributos novos ($x_3 = x_1 x_2, x_4 = x1^2, \\cdots$) e treinados como uma regressão linear, mas é importante verificar as correlações para evitar *overfitting*."
   ]
  },
  {
   "cell_type": "markdown",
   "id": "f7e30e97",
   "metadata": {},
   "source": [
    "Problemas:\n",
    "* Baixa linearidade dos dados:\n",
    "    * Em certos casos é possível determinar a não linearidade dos dados usando residual plots (um gráfico de dispersão de um preditor (ou o valor predito) pelo erro do modelo para cada item).\n",
    "* Modelos lineares precisam assumir que os erros não possuem correlação (como acontece frequentemente em séries temporais), logo quando isso não é verdade é necessário usar outro tipo de abordagem.\n",
    "* Modelos lineares precisam assumir que a variância do erro sempre será igual a $\\sigma^2$. A falta desse comportamento pode ser identificada por um afunilamento no gráfico residual. Existem abordagens que funcionam melhor nesse tipo de situação, como os mínimos quadrados ponderados.\n",
    "* Outliers podem ser um problema dependendo do contexto, mas também podem ser difíceis de separar dos dados corretos. Uma forma de encontrá-los é computar e visualizar os resíduos studentizados.\n",
    "* Leverage: é o impacto que cada entrada terá durante o treinamento. Isso é perigoso se os dados são outliers.\n",
    "$$\n",
    "    h_i = \\frac 1 n + \\frac{(x_i - \\bar x)^2}{\\sum^n_{i'=1}(x_{i'}-\\bar x)^2}\n",
    "$$\n",
    "* Colinearidade: variáveis que tem forte correlação entre si mas não necessariamente com a variável preditora podem afetam fortemente a performance do modelo.\n",
    "    * Em casos simples é possível determinar colinearidade e escolher as variáveis corretas usando uma matriz de correlação.\n",
    "        * Em casos de multicolinearidade (quando uma variável independente tem forte correlação com mais de uma variável independente mas não com a variável que queremos predizer) isso não é possível mas é possível determinar o fator de inflação da variância (VIF), que é a proporção da variância dos coeficientes preditos no final pela variância desse termo ajustado sozinho (o que isso significa?).\n",
    "        $$\n",
    "            VIF(\\hat \\beta_j) = \\frac 1 {1 - R^2_{X_j | X_{-j}}} \\\\\n",
    "            R^2_{X_j | X_{-j}}: R^2 \\text{ em uma regressão usando todas as variáveis}\n",
    "        $$\n",
    "        * Regra geral: esse valor varia de 1 (não há colinearidade) a 5-10 (colinearidade problemática)\n",
    "    \n"
   ]
  },
  {
   "cell_type": "markdown",
   "id": "e46ba7f9",
   "metadata": {},
   "source": [
    "Regressão usando KNN:\n",
    "\n",
    "* **Vantagens**: não afirma nada sobre a linearidade da função e se ajusta às complexidades dos dados muito bem quando existem grandes volumes de dados.\n",
    "* **Desvantagens**: Casos seja treinada com poucos exemplos pode sofrer variância muito alta.\n",
    "\n",
    "$$\n",
    "    \\hat f(x_0) = \\frac 1 K \\sum_{x_i \\in N_0} y_i \\\\\n",
    "    N_0: \\text{conjunto com os K exemplos de treino mais proximos de }x_0\n",
    "$$"
   ]
  },
  {
   "cell_type": "markdown",
   "id": "3b410609",
   "metadata": {},
   "source": [
    "## Laboratório\n",
    "\n",
    "**TODO:**\n",
    "* Fazer TTS do dataset\n",
    "* Verificar as métricas (RSE, R2, residual, etc.)\n",
    "* Repetir para regressão múltipla"
   ]
  },
  {
   "cell_type": "code",
   "execution_count": 8,
   "id": "d66dc466",
   "metadata": {},
   "outputs": [],
   "source": [
    "import pandas as pd\n",
    "from sklearn.linear_model import LinearRegression\n",
    "import seaborn as sns\n",
    "%matplotlib inline"
   ]
  },
  {
   "cell_type": "code",
   "execution_count": 3,
   "id": "2b0f0acb",
   "metadata": {},
   "outputs": [
    {
     "data": {
      "text/html": [
       "<div>\n",
       "<style scoped>\n",
       "    .dataframe tbody tr th:only-of-type {\n",
       "        vertical-align: middle;\n",
       "    }\n",
       "\n",
       "    .dataframe tbody tr th {\n",
       "        vertical-align: top;\n",
       "    }\n",
       "\n",
       "    .dataframe thead th {\n",
       "        text-align: right;\n",
       "    }\n",
       "</style>\n",
       "<table border=\"1\" class=\"dataframe\">\n",
       "  <thead>\n",
       "    <tr style=\"text-align: right;\">\n",
       "      <th></th>\n",
       "      <th>crim</th>\n",
       "      <th>zn</th>\n",
       "      <th>indus</th>\n",
       "      <th>chas</th>\n",
       "      <th>nox</th>\n",
       "      <th>rm</th>\n",
       "      <th>age</th>\n",
       "      <th>dis</th>\n",
       "      <th>rad</th>\n",
       "      <th>tax</th>\n",
       "      <th>ptratio</th>\n",
       "      <th>lstat</th>\n",
       "      <th>medv</th>\n",
       "    </tr>\n",
       "  </thead>\n",
       "  <tbody>\n",
       "    <tr>\n",
       "      <th>479</th>\n",
       "      <td>10.23300</td>\n",
       "      <td>0.0</td>\n",
       "      <td>18.10</td>\n",
       "      <td>0</td>\n",
       "      <td>0.614</td>\n",
       "      <td>6.185</td>\n",
       "      <td>96.7</td>\n",
       "      <td>2.1705</td>\n",
       "      <td>24</td>\n",
       "      <td>666</td>\n",
       "      <td>20.2</td>\n",
       "      <td>18.03</td>\n",
       "      <td>14.6</td>\n",
       "    </tr>\n",
       "    <tr>\n",
       "      <th>304</th>\n",
       "      <td>0.10000</td>\n",
       "      <td>34.0</td>\n",
       "      <td>6.09</td>\n",
       "      <td>0</td>\n",
       "      <td>0.433</td>\n",
       "      <td>6.982</td>\n",
       "      <td>17.7</td>\n",
       "      <td>5.4917</td>\n",
       "      <td>7</td>\n",
       "      <td>329</td>\n",
       "      <td>16.1</td>\n",
       "      <td>4.86</td>\n",
       "      <td>33.1</td>\n",
       "    </tr>\n",
       "    <tr>\n",
       "      <th>468</th>\n",
       "      <td>4.42228</td>\n",
       "      <td>0.0</td>\n",
       "      <td>18.10</td>\n",
       "      <td>0</td>\n",
       "      <td>0.584</td>\n",
       "      <td>6.003</td>\n",
       "      <td>94.5</td>\n",
       "      <td>2.5403</td>\n",
       "      <td>24</td>\n",
       "      <td>666</td>\n",
       "      <td>20.2</td>\n",
       "      <td>21.32</td>\n",
       "      <td>19.1</td>\n",
       "    </tr>\n",
       "    <tr>\n",
       "      <th>348</th>\n",
       "      <td>0.01870</td>\n",
       "      <td>85.0</td>\n",
       "      <td>4.15</td>\n",
       "      <td>0</td>\n",
       "      <td>0.429</td>\n",
       "      <td>6.516</td>\n",
       "      <td>27.7</td>\n",
       "      <td>8.5353</td>\n",
       "      <td>4</td>\n",
       "      <td>351</td>\n",
       "      <td>17.9</td>\n",
       "      <td>6.36</td>\n",
       "      <td>23.1</td>\n",
       "    </tr>\n",
       "    <tr>\n",
       "      <th>165</th>\n",
       "      <td>2.24236</td>\n",
       "      <td>0.0</td>\n",
       "      <td>19.58</td>\n",
       "      <td>0</td>\n",
       "      <td>0.605</td>\n",
       "      <td>5.854</td>\n",
       "      <td>91.8</td>\n",
       "      <td>2.4220</td>\n",
       "      <td>5</td>\n",
       "      <td>403</td>\n",
       "      <td>14.7</td>\n",
       "      <td>11.64</td>\n",
       "      <td>22.7</td>\n",
       "    </tr>\n",
       "    <tr>\n",
       "      <th>286</th>\n",
       "      <td>0.01096</td>\n",
       "      <td>55.0</td>\n",
       "      <td>2.25</td>\n",
       "      <td>0</td>\n",
       "      <td>0.389</td>\n",
       "      <td>6.453</td>\n",
       "      <td>31.9</td>\n",
       "      <td>7.3073</td>\n",
       "      <td>1</td>\n",
       "      <td>300</td>\n",
       "      <td>15.3</td>\n",
       "      <td>8.23</td>\n",
       "      <td>22.0</td>\n",
       "    </tr>\n",
       "    <tr>\n",
       "      <th>297</th>\n",
       "      <td>0.05372</td>\n",
       "      <td>0.0</td>\n",
       "      <td>13.92</td>\n",
       "      <td>0</td>\n",
       "      <td>0.437</td>\n",
       "      <td>6.549</td>\n",
       "      <td>51.0</td>\n",
       "      <td>5.9604</td>\n",
       "      <td>4</td>\n",
       "      <td>289</td>\n",
       "      <td>16.0</td>\n",
       "      <td>7.39</td>\n",
       "      <td>27.1</td>\n",
       "    </tr>\n",
       "    <tr>\n",
       "      <th>459</th>\n",
       "      <td>7.75223</td>\n",
       "      <td>0.0</td>\n",
       "      <td>18.10</td>\n",
       "      <td>0</td>\n",
       "      <td>0.713</td>\n",
       "      <td>6.301</td>\n",
       "      <td>83.7</td>\n",
       "      <td>2.7831</td>\n",
       "      <td>24</td>\n",
       "      <td>666</td>\n",
       "      <td>20.2</td>\n",
       "      <td>16.23</td>\n",
       "      <td>14.9</td>\n",
       "    </tr>\n",
       "    <tr>\n",
       "      <th>279</th>\n",
       "      <td>0.07978</td>\n",
       "      <td>40.0</td>\n",
       "      <td>6.41</td>\n",
       "      <td>0</td>\n",
       "      <td>0.447</td>\n",
       "      <td>6.482</td>\n",
       "      <td>32.1</td>\n",
       "      <td>4.1403</td>\n",
       "      <td>4</td>\n",
       "      <td>254</td>\n",
       "      <td>17.6</td>\n",
       "      <td>7.19</td>\n",
       "      <td>29.1</td>\n",
       "    </tr>\n",
       "    <tr>\n",
       "      <th>251</th>\n",
       "      <td>0.14030</td>\n",
       "      <td>22.0</td>\n",
       "      <td>5.86</td>\n",
       "      <td>0</td>\n",
       "      <td>0.431</td>\n",
       "      <td>6.487</td>\n",
       "      <td>13.0</td>\n",
       "      <td>7.3967</td>\n",
       "      <td>7</td>\n",
       "      <td>330</td>\n",
       "      <td>19.1</td>\n",
       "      <td>5.90</td>\n",
       "      <td>24.4</td>\n",
       "    </tr>\n",
       "  </tbody>\n",
       "</table>\n",
       "</div>"
      ],
      "text/plain": [
       "         crim    zn  indus  chas    nox     rm   age     dis  rad  tax  \\\n",
       "479  10.23300   0.0  18.10     0  0.614  6.185  96.7  2.1705   24  666   \n",
       "304   0.10000  34.0   6.09     0  0.433  6.982  17.7  5.4917    7  329   \n",
       "468   4.42228   0.0  18.10     0  0.584  6.003  94.5  2.5403   24  666   \n",
       "348   0.01870  85.0   4.15     0  0.429  6.516  27.7  8.5353    4  351   \n",
       "165   2.24236   0.0  19.58     0  0.605  5.854  91.8  2.4220    5  403   \n",
       "286   0.01096  55.0   2.25     0  0.389  6.453  31.9  7.3073    1  300   \n",
       "297   0.05372   0.0  13.92     0  0.437  6.549  51.0  5.9604    4  289   \n",
       "459   7.75223   0.0  18.10     0  0.713  6.301  83.7  2.7831   24  666   \n",
       "279   0.07978  40.0   6.41     0  0.447  6.482  32.1  4.1403    4  254   \n",
       "251   0.14030  22.0   5.86     0  0.431  6.487  13.0  7.3967    7  330   \n",
       "\n",
       "     ptratio  lstat  medv  \n",
       "479     20.2  18.03  14.6  \n",
       "304     16.1   4.86  33.1  \n",
       "468     20.2  21.32  19.1  \n",
       "348     17.9   6.36  23.1  \n",
       "165     14.7  11.64  22.7  \n",
       "286     15.3   8.23  22.0  \n",
       "297     16.0   7.39  27.1  \n",
       "459     20.2  16.23  14.9  \n",
       "279     17.6   7.19  29.1  \n",
       "251     19.1   5.90  24.4  "
      ]
     },
     "execution_count": 3,
     "metadata": {},
     "output_type": "execute_result"
    }
   ],
   "source": [
    "df = pd.read_csv(\"../datasets/Boston.csv\", index_col=0)\n",
    "df.sample(10)\n"
   ]
  },
  {
   "cell_type": "code",
   "execution_count": 14,
   "id": "3b72c187",
   "metadata": {},
   "outputs": [
    {
     "data": {
      "text/plain": [
       "LinearRegression()"
      ]
     },
     "execution_count": 14,
     "metadata": {},
     "output_type": "execute_result"
    }
   ],
   "source": [
    "X_train = df[\"lstat\"]\n",
    "y_train = df[\"medv\"]\n",
    "linearRegression = LinearRegression()\n",
    "linearRegression.fit(X_train.values.reshape(-1, 1), y_train)\n"
   ]
  },
  {
   "cell_type": "code",
   "execution_count": 12,
   "id": "3b617f6e",
   "metadata": {},
   "outputs": [
    {
     "data": {
      "text/plain": [
       "<AxesSubplot:xlabel='lstat', ylabel='medv'>"
      ]
     },
     "execution_count": 12,
     "metadata": {},
     "output_type": "execute_result"
    },
    {
     "data": {
      "image/png": "[encoded data removed]",
      "text/plain": [
       "<Figure size 432x288 with 1 Axes>"
      ]
     },
     "metadata": {
      "needs_background": "light"
     },
     "output_type": "display_data"
    }
   ],
   "source": [
    "sns.regplot(data=df[[\"lstat\", \"medv\"]], x=\"lstat\", y=\"medv\")\n"
   ]
  },
  {
   "cell_type": "markdown",
   "id": "f591f471",
   "metadata": {},
   "source": [
    "## Exercícios"
   ]
  },
  {
   "cell_type": "markdown",
   "id": "0db67b24",
   "metadata": {},
   "source": [
    "### Conceituais"
   ]
  },
  {
   "cell_type": "markdown",
   "id": "69b9c3e6",
   "metadata": {},
   "source": [
    "**1. Describe the null hypotheses to which the p-values given in Table 3.4\n",
    "correspond. Explain what conclusions you can draw based on these\n",
    "p-values. Your explanation should be phrased in terms of sales, TV,\n",
    "radio, and newspaper, rather than in terms of the coefficients of the\n",
    "linear model.**\n",
    "\n",
    "As hipóteses nulas nesse caso consideram que o coeficiente numérico para `Intercept, TV, radio, newspaper` é nulo, ou seja, existem fortes evidências que qualquer correlação linear entre o valor predito e as variáveis seja coincidência. No caso o valor p de `Intercept, TV, radio` é muito pequeno e a hipótese nula pode ser desconsiderada, porém é necessário verificar a possibilidade de colinearidade entre esses valores. `Newspaper` possui um valor p muito alto e a hipótese nula não pode ser descartada."
   ]
  },
  {
   "cell_type": "markdown",
   "id": "4be5a902",
   "metadata": {},
   "source": [
    "**2. Carefully explain the differences between the KNN classifier and KNN\n",
    "regression methods.**\n",
    "\n",
    "Um classificador KNN prediz que a classe para os dados escolhidos será a classe mais frequente entre os K exemplos de treino mais próximos desses dados.\n",
    "\n",
    "Um regressor KNN prediz que o valor estimado para os dados escolhidos será a média dos K exemplos de treino mais próximos desses dados."
   ]
  },
  {
   "cell_type": "markdown",
   "id": "e51954c1",
   "metadata": {},
   "source": [
    "**3. Suppose we have a data set with five predictors, X1 = GPA, X2 = IQ, X3 = Level (1 for College and 0 for High School), X4 = Interaction between GPA and IQ, and X5 = Interaction between GPA and Level. The response is starting salary after graduation (in thousands of dollars). Suppose we use least squares to fit the model, and get βˆ0 = 50, βˆ1 = 20, βˆ2 = 0.07, βˆ3 = 35, βˆ4 = 0.01, βˆ5 = −10.**\n",
    "\n",
    "**(a) Which answer is correct, and why?**\n",
    "\n",
    "**i. For a fixed value of IQ and GPA, high school graduates earn more, on average, than college graduates.**\n",
    "\n",
    "Falso.\n",
    "\n",
    "**ii. For a fixed value of IQ and GPA, college graduates earn more, on average, than high school graduates.**\n",
    "\n",
    "Verdadeiro, já que $\\beta_3$ possui um coeficiente positivo alto.\n",
    "\n",
    "**iii. For a fixed value of IQ and GPA, high school graduates earn more, on average, than college graduates provided that the GPA is high enough.**\n",
    "\n",
    "Verdadeiro, já que $\\beta_1$ possui um coeficiente positivo alto. Porém, GPA precisa ser muito alto já que $\\beta_3$ é significativamente maior e GPA é um valor limitado.\n",
    "\n",
    "**iv. For a fixed value of IQ and GPA, college graduates earn more, on average, than high school graduates provided that the GPA is high enough.**\n",
    "\n",
    "Falso."
   ]
  },
  {
   "cell_type": "markdown",
   "id": "0230cf0f",
   "metadata": {},
   "source": [
    "**(b) Predict the salary of a college graduate with IQ of 110 and a GPA of 4.0.**"
   ]
  },
  {
   "cell_type": "code",
   "execution_count": 17,
   "id": "2591bf5b",
   "metadata": {},
   "outputs": [
    {
     "data": {
      "text/plain": [
       "137.1"
      ]
     },
     "execution_count": 17,
     "metadata": {},
     "output_type": "execute_result"
    }
   ],
   "source": [
    "def salary(x1, x2, x3):\n",
    "    return 50 + 20 * x1 + 0.07 * x2 + 35 * x3 + 0.01 * x1 * x2 - 10 * x1 * x3\n",
    "\n",
    "\n",
    "salary(4, 110, 1)\n"
   ]
  },
  {
   "cell_type": "markdown",
   "id": "9d280673",
   "metadata": {},
   "source": [
    "**(c) True or false: Since the coefficient for the GPA/IQ interaction term is very small, there is very little evidence of an interaction effect. Justify your answer.**\n",
    "\n",
    "O valor do coeficiente depende dos dados de treino e não é uma verdade absoluta sobre a relação dos dados. Para determinar o efeito de interação são mais garantidos testes de hipótese e outras métricas sobre os dados antes do treino."
   ]
  },
  {
   "cell_type": "markdown",
   "id": "b0e478de",
   "metadata": {},
   "source": [
    "**4. I collect a set of data (n = 100 observations) containing a single predictor and a quantitative response. I then fit a linear regression model to the data, as well as a separate cubic regression, i.e. Y = β0 + β1X + β2X2 + β3X3 + ϵ.**\n",
    "    \n",
    "**(a) Suppose that the true relationship between X and Y is linear, i.e. Y = β0 + β1X + ϵ. Consider the training residual sum of squares (RSS) for the linear regression, and also the training RSS for the cubic regression. Would we expect one to be lower than the other, would we expect them to be the same, or is there not enough information to tell? Justify your answer.**\n",
    "\n",
    "A função cúbica é mais flexível que a linear e em treino tem mais potencial de minimizar o RSS que a função linear.\n",
    "\n",
    "**(b) Answer (a) using test rather than training RSS.**\n",
    "\n",
    "Falta informação sobre os dados. Nem toda relação entre duas variáveis é linear. Para maior certeza sobre a forma dos dados seria necessário a verificação entre a colinearidade e a correlação entre a função de X e Y.\n",
    "\n",
    "**(c) Suppose that the true relationship between X and Y is not linear, but we don’t know how far it is from linear. Consider the training RSS for the linear regression, and also the training RSS for the cubic regression. Would we expect one to be lower than the other, would we expect them to be the same, or is there not enough information to tell? Justify your answer.**\n",
    "\n",
    "É esperado que o RSS da função cúbica seja menor que o da função linear já que essa função é mais flexível, podendo se adequar melhor aos exemplos e obter um valor melhor para o RSS que a função linear.\n",
    "\n",
    "**(d) Answer (c) using test rather than training RSS.**\n",
    "\n",
    "É esperado que a função cúbica tenha um desempenho melhor nos testes por se adequar melhor à não linearidade da base de dados. Porém não linearidade é uma descrição muito ampla e não significa que os dados podem ser descritos por uma função cúbica."
   ]
  },
  {
   "cell_type": "markdown",
   "id": "18b7fdd3",
   "metadata": {},
   "source": [
    "5. Consider the fitted values that result from performing linear regression without an intercept. In this setting, the ith fitted value takes the form\n",
    "$$\n",
    "    \\hat y_i = x_i \\hat \\beta\n",
    "$$\n",
    "\n",
    "where\n",
    "\n",
    "$$\n",
    "    \\hat \\beta = \\frac {\\sum^n_{i=1}x_iy_i}{\\sum^n_{i'=1}x^2_i}\n",
    "$$\n",
    "\n",
    "Show that we can write\n",
    "    \n",
    "$$\n",
    "    \\hat y_i = \\sum^n_{i'=1}a_{i'}y_{i'}\n",
    "$$\n",
    "\n",
    "What is $a_{i'}$?\n",
    "\n",
    "*Note: We interpret this result by saying that the fitted values from linear regression are linear combinations of the response values.*"
   ]
  },
  {
   "cell_type": "markdown",
   "id": "58216383",
   "metadata": {},
   "source": [
    "6. Using (3.4), argue that in the case of simple linear regression, the least squares line always passes through the point (¯x, y¯)."
   ]
  },
  {
   "cell_type": "markdown",
   "id": "0e67d4ff",
   "metadata": {},
   "source": [
    "7. It is claimed in the text that in the case of simple linear regression of Y onto X, the R2 statistic (3.17) is equal to the square of the correlation between X and Y (3.18). Prove that this is the case. For simplicity, you may assume that ¯x = ¯y = 0."
   ]
  },
  {
   "cell_type": "markdown",
   "id": "a60d4376",
   "metadata": {},
   "source": [
    "### Aplicados"
   ]
  },
  {
   "cell_type": "markdown",
   "id": "9ca1b5f8",
   "metadata": {},
   "source": [
    "8. This question involves the use of simple linear regression on the `Auto` data set."
   ]
  },
  {
   "cell_type": "markdown",
   "id": "e0eedcf1",
   "metadata": {},
   "source": [
    "(a) Use the `lm()` function to perform a simple linear regression with\n",
    "mpg as the response and horsepower as the predictor. Use the\n",
    "`summary()` function to print the results. Comment on the output."
   ]
  },
  {
   "cell_type": "code",
   "execution_count": 18,
   "id": "9824a119",
   "metadata": {},
   "outputs": [],
   "source": [
    "from sklearn.linear_model import LinearRegression\n",
    "from sklearn.model_selection import train_test_split\n",
    "import pandas as pd\n",
    "import numpy as np\n",
    "from sklearn.metrics import mean_squared_error, r2_score\n",
    "import seaborn as sns\n",
    "%matplotlib inline"
   ]
  },
  {
   "cell_type": "code",
   "execution_count": 51,
   "id": "5878ac53",
   "metadata": {},
   "outputs": [],
   "source": [
    "auto = pd.read_csv(\"../datasets/Auto.csv\")\n",
    "auto = auto[auto[\"mpg\"] != \"?\"]\n",
    "auto = auto[auto[\"horsepower\"] != \"?\"]\n",
    "\n",
    "X_train, X_test, y_train, y_test = train_test_split(\n",
    "    auto[\"horsepower\"].values, auto[\"mpg\"].values, test_size=0.2\n",
    ")\n"
   ]
  },
  {
   "cell_type": "code",
   "execution_count": 38,
   "id": "420b6dec",
   "metadata": {},
   "outputs": [],
   "source": [
    "linearRegression = LinearRegression()\n",
    "linearRegression.fit(X_train.reshape(-1, 1), y_train)\n",
    "y_pred = linearRegression.predict(X_test.reshape(-1, 1))\n"
   ]
  },
  {
   "cell_type": "markdown",
   "id": "bfd7cfda",
   "metadata": {},
   "source": [
    "For example:\n",
    "\n",
    "i. Is there a relationship between the predictor and the response?\n",
    "\n",
    "ii. How strong is the relationship between the predictor and\n",
    "the response?\n",
    "\n",
    "iii. Is the relationship between the predictor and the response\n",
    "positive or negative?\n",
    "\n",
    "iv. What is the predicted mpg associated with a horsepower of\n",
    "98? What are the associated 95 % confidence and prediction\n",
    "intervals?"
   ]
  },
  {
   "cell_type": "code",
   "execution_count": 46,
   "id": "d4861d6d",
   "metadata": {},
   "outputs": [
    {
     "name": "stdout",
     "output_type": "stream",
     "text": [
      "R² = 27.58%\n"
     ]
    }
   ],
   "source": [
    "print(f\"R² = {r2_score(y_pred, y_test) * 100:.2f}%\")\n"
   ]
  },
  {
   "cell_type": "code",
   "execution_count": 77,
   "id": "880816a2",
   "metadata": {},
   "outputs": [],
   "source": [
    "def RSE(y_test, y_pred):\n",
    "    n = y_test.shape[0]\n",
    "    p = len(y_test.shape)\n",
    "    # MSE = RSS / n => RSS = MSE * n\n",
    "    RSS = mean_squared_error(y_test, y_pred) * n\n",
    "    return RSS / (n - p - 1)\n"
   ]
  },
  {
   "cell_type": "code",
   "execution_count": 75,
   "id": "88e71a9c",
   "metadata": {},
   "outputs": [
    {
     "name": "stdout",
     "output_type": "stream",
     "text": [
      "RSE = 81.23\n"
     ]
    }
   ],
   "source": [
    "print(f\"RSE = {RSE(y_test, y_pred):.2f}\")\n"
   ]
  },
  {
   "cell_type": "code",
   "execution_count": 76,
   "id": "3e8213e7",
   "metadata": {},
   "outputs": [
    {
     "data": {
      "text/plain": [
       "<AxesSubplot:>"
      ]
     },
     "execution_count": 76,
     "metadata": {},
     "output_type": "execute_result"
    },
    {
     "data": {
      "image/png": "[encoded data removed]",
      "text/plain": [
       "<Figure size 432x288 with 2 Axes>"
      ]
     },
     "metadata": {
      "needs_background": "light"
     },
     "output_type": "display_data"
    }
   ],
   "source": [
    "sns.heatmap(np.corrcoef(pd.to_numeric(auto[\"mpg\"]), pd.to_numeric(auto[\"horsepower\"])))\n"
   ]
  },
  {
   "cell_type": "code",
   "execution_count": 72,
   "id": "8c23538b",
   "metadata": {},
   "outputs": [
    {
     "name": "stderr",
     "output_type": "stream",
     "text": [
      "/home/esns/.local/lib/python3.9/site-packages/seaborn/_decorators.py:36: FutureWarning: Pass the following variables as keyword args: x, y. From version 0.12, the only valid positional argument will be `data`, and passing other arguments without an explicit keyword will result in an error or misinterpretation.\n",
      "  warnings.warn(\n"
     ]
    },
    {
     "data": {
      "text/plain": [
       "<AxesSubplot:xlabel='mpg', ylabel='horsepower'>"
      ]
     },
     "execution_count": 72,
     "metadata": {},
     "output_type": "execute_result"
    },
    {
     "data": {
      "image/png": "[encoded data removed]",
      "text/plain": [
       "<Figure size 432x288 with 1 Axes>"
      ]
     },
     "metadata": {
      "needs_background": "light"
     },
     "output_type": "display_data"
    }
   ],
   "source": [
    "sns.scatterplot(pd.to_numeric(auto[\"mpg\"]), pd.to_numeric(auto[\"horsepower\"]))\n"
   ]
  },
  {
   "cell_type": "markdown",
   "id": "14e21296",
   "metadata": {},
   "source": [
    "(b) Plot the response and the predictor. Use the abline() function\n",
    "to display the least squares regression line.\n",
    "\n",
    "(c) Use the plot() function to produce diagnostic plots of the least\n",
    "squares regression fit. Comment on any problems you see with\n",
    "the fit."
   ]
  }
 ],
 "metadata": {
  "kernelspec": {
   "display_name": "Python 3 (ipykernel)",
   "language": "python",
   "name": "python3"
  },
  "language_info": {
   "codemirror_mode": {
    "name": "ipython",
    "version": 3
   },
   "file_extension": ".py",
   "mimetype": "text/x-python",
   "name": "python",
   "nbconvert_exporter": "python",
   "pygments_lexer": "ipython3",
   "version": "3.9.7"
  }
 },
 "nbformat": 4,
 "nbformat_minor": 5
}
